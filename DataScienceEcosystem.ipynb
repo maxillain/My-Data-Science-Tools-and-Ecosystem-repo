{
 "cells": [
  {
   "cell_type": "markdown",
   "id": "e5b768dd-b69e-4b86-90a1-4723212bf843",
   "metadata": {},
   "source": [
    "# Data Science Tools and Ecosystem"
   ]
  },
  {
   "cell_type": "markdown",
   "id": "fdbaf577-58a8-46ac-b510-af66d6650752",
   "metadata": {},
   "source": [
    "In this notebook, Data Science Tools and Ecosystem are summarized."
   ]
  },
  {
   "cell_type": "markdown",
   "id": "9e911665-b1d0-46bf-ab6d-951333ec38d5",
   "metadata": {},
   "source": [
    "Some of the popular languages that Data Scientists use are:\n",
    "1. Python;\n",
    "2. R;\n",
    "3. SQL;\n",
    "4. Julia;\n",
    "5. Scala;\n",
    "6. Java;\n",
    "7. JavaScript;\n",
    "8. C/C++;\n",
    "9. Php;\n",
    "10. Ruby;\n",
    "11. Visual Basic;\n",
    "12. Go;\n",
    "13. MATLAB;\n",
    "14. many others."
   ]
  },
  {
   "cell_type": "markdown",
   "id": "a1e7e942-7872-4a74-aea2-7395ed4efbae",
   "metadata": {},
   "source": [
    "Some of the commonly used libraries used by Data Scientists include:\n",
    "1. Pandas;\n",
    "2. NumPy;\n",
    "3. Matlpotlib;\n",
    "4. Seaborn;\n",
    "5. Scikit-learn;\n",
    "6. Keras;\n",
    "7. TensorFlow;\n",
    "8. PyTorch;\n",
    "9. ggplot2."
   ]
  },
  {
   "cell_type": "markdown",
   "id": "125679dd-7b4e-4f08-adfb-ebc42d6f3087",
   "metadata": {},
   "source": [
    "|Data Science Tools|\n",
    "|------------------|\n",
    "|Jupyter Notebook  |\n",
    "|RStudio           |\n",
    "|Spyder            |"
   ]
  },
  {
   "cell_type": "markdown",
   "id": "e0da0188-c692-4e27-9ea5-b0a7cbf0e7cf",
   "metadata": {},
   "source": [
    "### Below are a few examples of evaluating arithmetic expressions in Python"
   ]
  },
  {
   "cell_type": "code",
   "execution_count": 7,
   "id": "7e9b6513-56cd-4f63-902d-33764f5cbfdf",
   "metadata": {},
   "outputs": [
    {
     "data": {
      "text/plain": [
       "17"
      ]
     },
     "execution_count": 7,
     "metadata": {},
     "output_type": "execute_result"
    }
   ],
   "source": [
    "(3*4)+5"
   ]
  },
  {
   "cell_type": "code",
   "execution_count": 8,
   "id": "c32afb43-ec63-4680-8749-420ade30b982",
   "metadata": {},
   "outputs": [
    {
     "data": {
      "text/plain": [
       "3.3333333333333335"
      ]
     },
     "execution_count": 8,
     "metadata": {},
     "output_type": "execute_result"
    }
   ],
   "source": [
    "#This will convert 200 minutes to hours by diving by 60\n",
    "200/60"
   ]
  },
  {
   "cell_type": "markdown",
   "id": "5d755f24-4cda-4deb-abbd-9f1409b71738",
   "metadata": {},
   "source": [
    "Objectives:\n",
    "* List popular languages for Data Science;\n",
    "* List some of the commonly used libraries used by Data Scientists;\n",
    "* List indicating three development environment open source tools used in data science."
   ]
  },
  {
   "cell_type": "markdown",
   "id": "8f95c2b4-0713-44ca-a2b5-d7ed7f806271",
   "metadata": {},
   "source": [
    "## Author\n",
    "Mairis Putnins"
   ]
  },
  {
   "cell_type": "code",
   "execution_count": null,
   "id": "e9b9b901-5606-4c42-af9d-fcc7e0f8b77c",
   "metadata": {},
   "outputs": [],
   "source": []
  }
 ],
 "metadata": {
  "kernelspec": {
   "display_name": "Python [conda env:base] *",
   "language": "python",
   "name": "conda-base-py"
  },
  "language_info": {
   "codemirror_mode": {
    "name": "ipython",
    "version": 3
   },
   "file_extension": ".py",
   "mimetype": "text/x-python",
   "name": "python",
   "nbconvert_exporter": "python",
   "pygments_lexer": "ipython3",
   "version": "3.13.5"
  }
 },
 "nbformat": 4,
 "nbformat_minor": 5
}
